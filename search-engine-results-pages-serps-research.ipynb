{
 "cells": [
  {
   "cell_type": "markdown",
   "metadata": {
    "_uuid": "d77340bc63fce377765201d99de5ded5d4a7ab12"
   },
   "source": [
    "# Search engine results pages (SERPs) research with Python\n",
    "![](https://storage.googleapis.com/kaggle-datasets-images/65508/129168/1e05588bb7a2735c017bff299c2eeb5f/data-original.png?t=2018-10-19-03-52-58)\n",
    "\n",
    "## How to import and merge multiple search engine results pages in one DataFrame (table / csv / excel sheet), with one function call"
   ]
  },
  {
   "cell_type": "markdown",
   "metadata": {
    "_uuid": "c4f0bc85a2374bf1afb8584aed6ddb849a0096d1"
   },
   "source": [
    "When starting to do research for search engine optimization, you typically start by making a few manual searches, to see who is ranking the highest, how competitive the landscape might be, and so on.    \n",
    "Of course this is not enough, what you actually need is a data set summarizing each search results page in a tidy DataFrame, with keywords, ranks, titles, etc. each in its own column. Ideally you would have such a table for every keyword, for every product you have, and across countries, languages, or whatever search attributes you may have.  \n",
    "Something like the following table: "
   ]
  },
  {
   "cell_type": "code",
   "execution_count": null,
   "metadata": {
    "_kg_hide-output": true
   },
   "outputs": [],
   "source": [
    "!pip install \"advertools==0.7.4\""
   ]
  },
  {
   "cell_type": "code",
   "execution_count": null,
   "metadata": {},
   "outputs": [],
   "source": [
    "import pandas as pd\n",
    "(pd.read_csv('../input/pymarketing.csv').head())"
   ]
  },
  {
   "cell_type": "markdown",
   "metadata": {},
   "source": [
    "More importantly, you can generate such a dataset for multiple queries, countries, languages, etc. and on a large scale using one line of code. Typically, running a query manually and looking at the results is not that useful, because you only see results for that query and for your location. What can help in your analysis, is generating a large dataset for a query across fifty countries, or for a hundred queries in two countries, and in three languages. This is where you have results for hundreds of requests, and you can start seeing patterns and trends. Many other options exist, and these are just a few examples.\n",
    "\n",
    "If this sounsd interesting, here is how you can do this.  "
   ]
  },
  {
   "cell_type": "markdown",
   "metadata": {
    "_uuid": "f4bb6f539e6a7e8ebc2bea88de500232be5f5f16"
   },
   "source": [
    "## Why Search? (skip if you do SEO)\n",
    "\n",
    "1. **You typically search alone:** Whether on your phone or laptop,  you are mostly by yourself. This means two things. \n",
    "    - Alone means only for you: If two or more people were to decide on a movie to watch, or a restaurant to go to, they would have to find an option that caters for most people, something like the average. You end up compromising a little. Not with search, you say exactly what you want.\n",
    "    - Alone means private: If a group of friends are talking about something new to you, you might be embarassed to ask what that thing is. Not with Google, you simply search for \"who is X?\" or \"what is Y?\". No embarrasment. Sometimes you might be concerned about something, maybe a medical or psychological condition you might be having. Before alarming your loved ones, you safely go and ask The Google. \n",
    "2. **Search is active:** Compared to most other media, search is one of the few that only happen when you make a request. Listening to the radio, for example, you get messages that you didn't ask for during a show that you asked for.\n",
    "3. **Perfect timing:** Because search is an active task, it happens at the perfect moment. Because you search when you are interested, ready, and receptive.  \n",
    "4. **Expression of interest (not a selection from options):** When you go to a restaurant and are given a menu, you have to choose an option. There might not be exactly what you are craving at that moment, or what your body needs. Again, you will have to compromise a little and order something quite close. With search you say exactly what you want, no matter how ridiculously detailed that thing is that you are searching for. \n",
    "\n",
    "So, on search we express our exact desires, actively, in private, honestly, and when we are most receptive. So, I think it's important to know what content people are given at those moments.\n",
    "\n",
    "\n",
    "### Approach\n",
    "\n",
    "We will connect to Google's custom search engine API: This is mainly used to create a search engine on your website, and allows you to customize it. We will use it to get results for research purposes:\n",
    "1. [Create a custom search engine](https://cse.google.com/cse/).  At first you might be asked to enter a site to search. Enter any domain, then go to the control panel and remove it. Make sure you enable \"Search the entire web\" and image search. You will also need to get your search engine ID, which you can find on the control panel page.  \n",
    "2. [Enable the custom search API](https://console.cloud.google.com/apis/library/customsearch.googleapis.com). You wil need to create a project for this first.\n",
    "3. [create credentials](https://console.developers.google.com/apis/api/customsearch.googleapis.com/credentials) for this project so you can get your key.\n",
    "4. [enable billing for your project](https://console.cloud.google.com/billing/projects) If you want to run more than 100 queries per day. The first 100 queries are free, then for each 1,000 queries you pay $5.\n",
    "\n",
    "Once this is set up (once you have your custom search engine ID, and your key), we will be ready to construct our queries and get the data. \n",
    "\n",
    "We will be using the `serp_goog` function from the [advertools](https://github.com/eliasdabbas/advertools) package. To install it:  \n",
    "`pip install advertools`\n",
    "\n",
    "Start first be defining two variable as we will be using them in every request. I'm using the conventions used by Google's CSE:"
   ]
  },
  {
   "cell_type": "code",
   "execution_count": null,
   "metadata": {
    "_uuid": "9be099fe561864ea05183cd7f776760e9da59737"
   },
   "outputs": [],
   "source": [
    "cx = 'YOUR_CUSTOM_SEARCH_KEY'\n",
    "key = 'YOUR_GOOGLE_DEV_KEY'\n",
    "\n",
    "import advertools as adv\n",
    "import pandas as pd\n",
    "pd.options.display.max_columns = None\n",
    "import plotly\n",
    "import plotly.graph_objs as go\n",
    "\n",
    "for p in [adv, pd, plotly]:\n",
    "    print(p.__name__, p.__version__)"
   ]
  },
  {
   "cell_type": "markdown",
   "metadata": {
    "_uuid": "94e42d4d66d3180e898b13fb031bcda6c908235b"
   },
   "source": [
    "The simplest request requires three parameters to be given; the query `q`, `cx`, and `key`, all others are optional. Here is a simple request:  \n",
    "\n",
    "`yoga_mats = adv.serp_goog(q='yoga mats', cx=cx, key=key)`"
   ]
  },
  {
   "cell_type": "code",
   "execution_count": null,
   "metadata": {
    "_uuid": "b7334b16042342c85ec928abd7505b5497720d6d"
   },
   "outputs": [],
   "source": [
    "yoga_mats = pd.read_csv('../input/yoga_mats.csv', parse_dates=['queryTime'])\n",
    "print(yoga_mats.shape)\n",
    "yoga_mats.head(3)"
   ]
  },
  {
   "cell_type": "markdown",
   "metadata": {
    "_uuid": "a16b26da04d5a12fcca9429dec92dc7f06a855a2"
   },
   "source": [
    "Ten rows, as expected, with 148 columns. The columns are pretty much the same (up to the `pagemap` column, unless you supply extra parameters, in which case you will have additional columns each for the respective parameter.  \n",
    "\n",
    "After that, the remaining columns (over 100), give some interesting meta data that you would see on the SERP, but are not the same for all domains, and not all domains would have the data, so you will see a lot NaNs in those columns. \n",
    "\n",
    "After taking a quick look, you decide to explore further and realize that there are  three other types of yoga mats that you are interested in; 'manduka yoga mats', 'thick yoga mats', and 'cheap yoga mats'. This is how you call the function for multiple keywords:  \n",
    "\n",
    "`yoga_mats_multi = adv.serp_goog(q=['manduka yoga mats', 'thick yoga mats', 'cheap yoga mats'], cx=cx, key=key)`"
   ]
  },
  {
   "cell_type": "code",
   "execution_count": null,
   "metadata": {
    "_uuid": "7fbe9e432819c8193a9d166187010cfcb8cc27f8"
   },
   "outputs": [],
   "source": [
    "yoga_mats_multi = pd.read_csv('../input/yoga_mats_multi.csv', parse_dates=['queryTime'])\n",
    "print(yoga_mats_multi.shape)\n",
    "yoga_mats_multi.groupby('searchTerms').head(2)"
   ]
  },
  {
   "cell_type": "markdown",
   "metadata": {
    "_uuid": "02ac79aa12758320e0b8d6838000f2277e9476a2"
   },
   "source": [
    "As you can see, if you want to make multiple requests, you don't need to worry about looping and merging the response data. All you need to do is pass a list instead of a string, and now we have thirty rows for the new keywords that we requested.  \n",
    "Let's say you want to do the same research in another country that you are intested in. For example you operate in two English-speaking countries, Canada and Australia.  \n",
    "As with the last example, you simply need to pass a list of countries as you did with the keywords, and all combinations will be requested and handled: \n",
    "\n",
    "`yoga_mats = adv.serp_goog(q=['manduka yoga mats', 'thick yoga mats', 'cheap yoga mats'],   cx=cx, key=key,   gl=['ca', 'au'])`\n",
    "                           \n",
    "This will create 3 (keywords) x 2 (countries) = 6 (requests, and 60 rows therefore)\n",
    "\n",
    "Keyword | Country\n",
    "--------|----------\n",
    "manduka yoga mats| Canada \n",
    "thick yoga mats| Canada \n",
    "cheap yoga mats| Canada\n",
    "manduka yoga mats| Australia\n",
    "thick yoga mats| Australia\n",
    "cheap yoga mats| Australia\n",
    "\n",
    "Again, this is done with one request, and the resulting DataFrames get merged into one. \n",
    "The same applies to any of the parameters of the function. Let's take a quick look at what's available. You can find the documentation for each of the parameters in the docstring of the function, as imported from [Google's documentation.](https://developers.google.com/custom-search/v1/cse/list) "
   ]
  },
  {
   "cell_type": "code",
   "execution_count": null,
   "metadata": {
    "_uuid": "ad0bdfa0a32529b269f985d078b14e60a72e43ab"
   },
   "outputs": [],
   "source": [
    "import inspect\n",
    "print(*inspect.signature(adv.serp_goog).parameters.keys(), sep='\\n')"
   ]
  },
  {
   "cell_type": "markdown",
   "metadata": {
    "_uuid": "f0e8d7e06e25c0feb4f1ef135fb12d2b5f8af41e"
   },
   "source": [
    "Parameter names are notPythonic and that is mainly to be consistent with Google's API, and to minimize any possible errors and bugs in the requests. Some of them are quite cryptic; `gl` for geo-location, `cr` for country-restrict for example. Again, you will find the full description in the doc string of the function if you need more details. \n",
    "There are acceptable values for many of those parameters, and you can get those by checking the dictionary that has those values:"
   ]
  },
  {
   "cell_type": "code",
   "execution_count": null,
   "metadata": {
    "_uuid": "28ce08aba09950e80362ecb09631d4248aea9c6a"
   },
   "outputs": [],
   "source": [
    "adv.SERP_GOOG_VALID_VALS.keys()"
   ]
  },
  {
   "cell_type": "code",
   "execution_count": null,
   "metadata": {
    "_uuid": "b7df4fbf191fc28ac557993e943c82cffa651eb6"
   },
   "outputs": [],
   "source": [
    "adv.SERP_GOOG_VALID_VALS['imgSize']"
   ]
  },
  {
   "cell_type": "code",
   "execution_count": null,
   "metadata": {
    "_uuid": "b7df4fbf191fc28ac557993e943c82cffa651eb6"
   },
   "outputs": [],
   "source": [
    "adv.SERP_GOOG_VALID_VALS['rights']"
   ]
  },
  {
   "cell_type": "markdown",
   "metadata": {
    "_uuid": "e9b690ea2b972b6d794b33353f0982181ed55a1f"
   },
   "source": [
    "For image search, you need to pass `searchType=\"image\"`, or in case you want multiple results, both for web and image search, you can do it like this `searchType=[\"image\", None]`. Together with the `searchType` parameter you can also make more specific image search queries by using any of the parameters that start with `img`.  \n",
    "\n",
    "Now let's run a larger query, and add some options. I gathered the names of the some of the most popular cars, and created a template: \n",
    "- **make model for sale** (\"honda civic for sale\", \"toyota camry for sale\",  etc.). \n",
    "- **make model price** ( \"honda civic price\", \"toyota camry price\", etc.).  \n",
    "I also ran the query with `gl=['us', 'uk']`"
   ]
  },
  {
   "cell_type": "code",
   "execution_count": null,
   "metadata": {
    "_uuid": "ddb7637dbc2abbac51be0622ff773c29602addd0"
   },
   "outputs": [],
   "source": [
    "make_model = ['Chevrolet Malibu','Hyundai Sonata','Ford Escape',\n",
    "              'Hyundai Elantra','Kia Sportage','Nissan Sentra',\n",
    "              'Hyundai Santa Fe Sport','Ford Fusion','Nissan Altima',\n",
    "              'Nissan Rogue','GMC Terrain','Kia Sorento','Toyota Camry',\n",
    "              'Volkswagen Passat','Kia Forte','Chevrolet Traverse',\n",
    "              'Ford Mustang','Dodge Dart','Ford Focus','Chrysler 200',\n",
    "              'Ford Explorer','Toyota Corolla','Mitsubishi Lancer',\n",
    "              'Nissan Versa','Kia Sedona','Toyota Prius','Nissan Versa Note',\n",
    "              'Buick Enclave','Jeep Patriot','Toyota RAV4','Chevrolet Tahoe',\n",
    "              'Nissan Pathfinder','Toyota Yaris','Jeep Grand Cherokee',\n",
    "              'Dodge Charger','Ford Edge','Jeep Compass','Nissan Frontier',\n",
    "              'Hyundai Santa Fe','Chevrolet Malibu Limited','Nissan JUKE',\n",
    "              'Volkswagen Beetle Coupe','Jeep Cherokee','Ford Fiesta',\n",
    "              'INFINITI QX60','Ram 1500','INFINITI QX70','Hyundai Accent',\n",
    "              'Buick Regal','Dodge Durango'\n",
    "]"
   ]
  },
  {
   "cell_type": "code",
   "execution_count": null,
   "metadata": {
    "_uuid": "631ad067023a5b3dcf65442ddf92c2ae9db77ca2"
   },
   "outputs": [],
   "source": [
    "q_for_sale = [x + ' for sale' for x in make_model]\n",
    "q_price = [x + ' price' for x in make_model]\n",
    "queries = [q.lower() for q in q_for_sale + q_price]\n",
    "print('Number of queries: 50 (make-model combinations) x 2 (keyword variations) x 2 (countries) = 200 queries\\nSample:')\n",
    "queries[:5] + queries[-5:]"
   ]
  },
  {
   "cell_type": "code",
   "execution_count": null,
   "metadata": {
    "_uuid": "ef2e0453734b9aa6264a2a8f400d4b55e68f32fc"
   },
   "outputs": [],
   "source": [
    "# serp_cars = adv.serp_goog(q=queries, cx=cx, key=key, gl=['us', 'uk'])"
   ]
  },
  {
   "cell_type": "code",
   "execution_count": null,
   "metadata": {
    "_uuid": "09b7b8f60ca5136f93ab3477efc2937cb70c7d3f"
   },
   "outputs": [],
   "source": [
    "cars4sale  = pd.read_csv('../input/cars_forsale_price_us_uk.csv', parse_dates=['queryTime'])"
   ]
  },
  {
   "cell_type": "markdown",
   "metadata": {
    "_uuid": "412c00d4a38bbd57e1c73912ae4b3b0bb865120b"
   },
   "source": [
    "Here are the top two results for five of the keywords:"
   ]
  },
  {
   "cell_type": "code",
   "execution_count": null,
   "metadata": {
    "_uuid": "34e0748d6a7cbc193e8ff0db7df12baad7f5566c"
   },
   "outputs": [],
   "source": [
    "print(cars4sale.shape)\n",
    "cars4sale.groupby(['searchTerms']).head(2)[:10]"
   ]
  },
  {
   "cell_type": "markdown",
   "metadata": {
    "_uuid": "461b80379d8dce7271c1bd268394b345a8ed5889"
   },
   "source": [
    "Since this is a much larger dataset, we got 358 columns, so there must be some interesting information there.  \n",
    "\n",
    "First, let's see who are the top domains in the US. One way to look at it, is to simply count for how many keywords a domain appears in the top ten results. Of course this assumes we are treating all keywords equally, which is not a good assumption in many cases. In this case it isn't a big problem because we are comparing top cars with other top cars. If you have more data about the importance of each keyword, you can apply a modifier to get a more meaningful set of numbers. "
   ]
  },
  {
   "cell_type": "code",
   "execution_count": null,
   "metadata": {
    "_uuid": "a1737840e2fc874f64cdd50e4ebb0dd7fa57b05a"
   },
   "outputs": [],
   "source": [
    "(cars4sale[cars4sale['gl'] == 'us']\n",
    " .pivot_table('rank', 'displayLink', aggfunc=['mean', 'count'])\n",
    " .sort_values([('count', 'rank')], ascending=False)\n",
    " .assign(cumsum=lambda df: df[('count', 'rank')].cumsum(),\n",
    "         cum_perc=lambda df: df['cumsum'].div(df[('count', 'rank')].sum()))\n",
    " .head(10)\n",
    " .style.format({('cum_perc',''): '{:.2%}', ('mean', 'rank'): '{:.1f}'})\n",
    " .set_caption('Top domains in USA'))"
   ]
  },
  {
   "cell_type": "markdown",
   "metadata": {
    "_uuid": "f5dfba35c3d64fcfe61a899f539e6c2316c01cf6"
   },
   "source": [
    "The top ten domains seem to occupy 741 out of 1,000 results. Good luck trying to do SEO in the used car market in the US!  \n",
    "We can see the mean rank (avg. position) for each domain, so let's look at how those numbers are distributed.  \n",
    "We first filter the `cars4sale` DataFrame where `gl==\"us\"`, and where the `displayLink` is one of the top 10 domains."
   ]
  },
  {
   "cell_type": "code",
   "execution_count": null,
   "metadata": {
    "_uuid": "8cb5806870e8b553f68fdc598274e67eba55672d"
   },
   "outputs": [],
   "source": [
    "top10domains_us = (cars4sale[cars4sale['gl'] == 'us']\n",
    "                   ['displayLink'].value_counts().index[:10])\n",
    "top10_df = (cars4sale[(cars4sale['gl'] == 'us') & \n",
    "                      (cars4sale['displayLink'].isin(top10domains_us))])\n",
    "print(top10_df.shape)\n",
    "top10_df.head(2)"
   ]
  },
  {
   "cell_type": "markdown",
   "metadata": {},
   "source": [
    "As expected, we get 741 rows.  \n",
    "Now to make things clearer on the plot when we visualize the data, we get the count of appearances per domain and for each position:"
   ]
  },
  {
   "cell_type": "code",
   "execution_count": null,
   "metadata": {},
   "outputs": [],
   "source": [
    "rank_counts = (top10_df\n",
    "               .groupby(['displayLink', 'rank'])\n",
    "               .agg({'rank': ['count']})\n",
    "               .reset_index())\n",
    "rank_counts.columns = ['displayLink', 'rank', 'count']\n",
    "rank_counts.head()"
   ]
  },
  {
   "cell_type": "markdown",
   "metadata": {},
   "source": [
    "In this case, cars.usnews.com appeared as the first result four times, as the second result twenty two times, and so on. "
   ]
  },
  {
   "cell_type": "code",
   "execution_count": null,
   "metadata": {},
   "outputs": [],
   "source": [
    "from plotly.offline import iplot, init_notebook_mode\n",
    "init_notebook_mode()\n",
    "fig = go.Figure()\n",
    "fig.add_scatter(x=top10_df['displayLink'].str.replace('www.', ''),\n",
    "                y=top10_df['rank'], mode='markers',\n",
    "                marker={'size': 30, \n",
    "                        'opacity': 1/rank_counts['count'].max()})\n",
    "fig.add_scatter(x=rank_counts['displayLink'].str.replace('www.', ''),\n",
    "                y=rank_counts['rank'], mode='text',\n",
    "                text=rank_counts['count'])\n",
    "\n",
    "for domain in rank_counts['displayLink'].unique():\n",
    "    rank_counts_subset = rank_counts[rank_counts['displayLink'] == domain]\n",
    "    fig.add_scatter(x=[domain.replace('www.', '')],\n",
    "                    y=[0], mode='text',\n",
    "                    marker={'size': 50},\n",
    "                    text=str(rank_counts_subset['count'].sum()))\n",
    "\n",
    "    fig.add_scatter(x=[domain.replace('www.', '')],\n",
    "                    y=[-1], mode='text',\n",
    "                    text=format(rank_counts_subset['count'].sum() / top10_df['queryTime'].nunique(), '.1%'))\n",
    "    fig.add_scatter(x=[domain.replace('www.', '')],\n",
    "                    y=[-2], mode='text',\n",
    "                    marker={'size': 50},\n",
    "                    text=str(round(rank_counts_subset['rank']\n",
    "                                   .mul(rank_counts_subset['count'])\n",
    "                                   .sum() / rank_counts_subset['count']\n",
    "                                   .sum(), 2)))\n",
    "\n",
    "minrank, maxrank = min(top10_df['rank'].unique()), max(top10_df['rank'].unique())\n",
    "fig.layout.yaxis.tickvals = [-2, -1, 0] + list(range(minrank, maxrank+1))\n",
    "fig.layout.yaxis.ticktext = ['Avg. Pos.', 'Coverage', 'Total<br>appearances'] + list(range(minrank, maxrank+1))\n",
    "\n",
    "fig.layout.height = 600 #max([600, 100 + ((maxrank - minrank) * 50)])\n",
    "fig.layout.width = 1000\n",
    "fig.layout.yaxis.title = 'SERP Rank (number of appearances)'\n",
    "fig.layout.showlegend = False\n",
    "fig.layout.paper_bgcolor = '#eeeeee'\n",
    "fig.layout.plot_bgcolor = '#eeeeee'\n",
    "fig.layout.autosize = False\n",
    "fig.layout.margin.r = 2\n",
    "fig.layout.margin.l = 120\n",
    "fig.layout.margin.pad = 0\n",
    "fig.layout.hovermode = False\n",
    "fig.layout.yaxis.autorange = 'reversed'\n",
    "fig.layout.yaxis.zeroline = False\n",
    "fig.layout.template = 'none'\n",
    "fig.layout.title = 'Top domains ranking for used car keywords in the US'\n",
    "iplot(fig)"
   ]
  },
  {
   "cell_type": "markdown",
   "metadata": {
    "_uuid": "cb6c4b9259b2b343696b8bc94faa77712199509a"
   },
   "source": [
    "I think it's clear how the top domains are distributed on SERPs. \n",
    "carfax.com appeared on the first position thirty one times, on the second position nineteen times and so on. \n",
    "Although we had the mean rank for each domain, this gives a clearer idea on how they are spread across the ranks.  We also see the average position, coverage, and the number of total appearance. Note that the coverage here is out of one thousand rows, because this is for the US only.  \n",
    "Let's see if the top domains have different content for the different keywords. We can take a random make-model combination and three of the top domains: "
   ]
  },
  {
   "cell_type": "code",
   "execution_count": null,
   "metadata": {
    "_uuid": "7a93786e993a1de754c98b08d10c0cafcfa5797f"
   },
   "outputs": [],
   "source": [
    "(cars4sale\n",
    " [(cars4sale['displayLink'].isin(['www.cargurus.com', 'www.truecar.com', 'www.edmunds.com'])) & \n",
    "  (cars4sale['title'].str.contains('Ford Escape'))][['title','link']])"
   ]
  },
  {
   "cell_type": "code",
   "execution_count": null,
   "metadata": {
    "_uuid": "9560619951e2d9baa989de11a0562e6efbe8b1d6"
   },
   "outputs": [],
   "source": [
    "for position in [41, 45, 46, 50, 55, 1044, 1048, 1049, 1054]:\n",
    "    print(cars4sale['searchTerms'][position])\n",
    "    print('='*23)\n",
    "    print(cars4sale['title'][position])\n",
    "    print(cars4sale['link'][position])\n",
    "    print('-' * 23, '\\n')"
   ]
  },
  {
   "cell_type": "markdown",
   "metadata": {
    "_uuid": "401bf45ba358cc5798bd01d3cc71e50cd372506c"
   },
   "source": [
    "It seems ['make model price'](https://www.cargurus.com/Cars/2019-Ford-Escape-Price-c28499) has a completely different page from ['make model for sale'](https://www.cargurus.com/Cars/l-Used-Ford-Escape-d330) for cargurus.com.  \n",
    "Although the intention is very similar in the two keywords, some websites made the extra effort to create special content for each, and it's interesting actually. Some of those price pages offer some interesting charts on different models, similar cars, and so on.  \n",
    "Based on this it would be interesting to also explore other ideas and see how far / detailed those websites are going to cater for different types of content related to used cars. Maybe something related to mainenance, or spare parts? \n",
    "\n",
    "Now let's take a look at the additional meta data columns that we have. You will see some frequently appearing meta data like `og:` (Facebook's open graph) and `twitter:`"
   ]
  },
  {
   "cell_type": "code",
   "execution_count": null,
   "metadata": {},
   "outputs": [],
   "source": [
    "print(cars4sale.filter(regex='og:').shape)\n",
    "cars4sale.filter(regex='og:').head()"
   ]
  },
  {
   "cell_type": "code",
   "execution_count": null,
   "metadata": {},
   "outputs": [],
   "source": [
    "print(cars4sale.filter(regex='twitter:').shape)\n",
    "cars4sale.filter(regex='twitter:').dropna(how='all').sample(3)"
   ]
  },
  {
   "cell_type": "code",
   "execution_count": null,
   "metadata": {},
   "outputs": [],
   "source": [
    "print(cars4sale.filter(regex='al:').shape)\n",
    "cars4sale.filter(regex='al:').dropna(how='all')"
   ]
  },
  {
   "cell_type": "code",
   "execution_count": null,
   "metadata": {},
   "outputs": [],
   "source": [
    "cars4sale.filter(regex='rating').dropna(how='all').sample(4)"
   ]
  },
  {
   "cell_type": "markdown",
   "metadata": {
    "_uuid": "a6992e17f67f42193a81aa2bf6a2d1eca335ba30"
   },
   "source": [
    "Feel free to check other patterns or insights by inspecting `cars4sale.columns`\n",
    "\n",
    "Let's explore a few other options with the `serp_goog` function parameters. \n",
    "\n",
    "## Number of Results\n",
    "\n",
    "By default, the maximum number of results is ten. But sometimes you want to go futher than the first page, to explore futher. The `start` parameter determines which position to start the results from. So if you specfiy `start=7` for example, you will get the ten results starting from position seven.  \n",
    "You can further restrict the number of results you get with the `num` parameters. This determines the number of results to return, and can only be between one and ten, inclusive.  \n",
    "Because we can specify multiples parameters, we can use a simple trick of passing multiple `start` numbers.\n",
    "\n",
    "`basketball = adv.serp_goog(q=\"basketball\", cx=cx, key=key, start=[1, 11, 21]`  \n",
    "This means simply to make three requests, starting at position 1, 11, and 21."
   ]
  },
  {
   "cell_type": "code",
   "execution_count": null,
   "metadata": {
    "_uuid": "6042a5f8bad3c80eeb080b3189e0d0b6135fe289"
   },
   "outputs": [],
   "source": [
    "# basketball = adv.serp_goog(q=\"basketball\", cx=cx, key=key, start=[1, 11, 21])"
   ]
  },
  {
   "cell_type": "code",
   "execution_count": null,
   "metadata": {
    "_uuid": "404b8265a1bb7a58c88085c06df06c737453a95a"
   },
   "outputs": [],
   "source": [
    "basketball = pd.read_csv('../input/basketball.csv', parse_dates=['queryTime'])\n",
    "print('Rows, columns:', basketball.shape)\n",
    "print('\\nRanks:', basketball['rank'].values, '\\n')\n",
    "basketball.head(2)"
   ]
  },
  {
   "cell_type": "markdown",
   "metadata": {
    "_uuid": "e06478be527a2faa0ed8cc33f33502ff362645db"
   },
   "source": [
    "## Date Restriction\n",
    "\n",
    "You can make a request while restricting the date of the content you are asking for, to be within the last X days, weeks, months, or years.  \n",
    "This is done through the `dateRstrict` parameter. It takes the following possible values: d, w, m, y, and possibly you can add an integer to specify how many days or months you want to restrict your query. \n",
    "- `d`: results from the last day.\n",
    "- `d5`: results from the last five days.\n",
    "- `w` or `w5` for example.\n",
    "- `m`, `m3`, `y`, `y6` etc.\n",
    "\n",
    "Let's see for example how results differ if we search for \"Donald Trump\" with different dates:\n",
    "\n",
    "`trump =  adv.serp_goog(q='donald trump', cx=cx, key=key, dateRestrict=['d1', 'd30','m6'])`  \n",
    "\n",
    "As you can guess, this will make three requests one asking for data from one day ago, from 30 days ago, and finally six months.\n"
   ]
  },
  {
   "cell_type": "code",
   "execution_count": null,
   "metadata": {},
   "outputs": [],
   "source": [
    "# trump = adv.serp_goog(q='donald trump', cx=cx, key=key, dateRestrict=['d1', 'd30','m6'])"
   ]
  },
  {
   "cell_type": "code",
   "execution_count": null,
   "metadata": {
    "_uuid": "512b3c6b8adcc7beb5a45b8735e11d151e06b5d9"
   },
   "outputs": [],
   "source": [
    "trump = pd.read_csv('../input/trump.csv', parse_dates=['queryTime'])\n",
    "trump.groupby(['dateRestrict']).head()[['rank','dateRestrict','title', 'snippet', 'displayLink', 'queryTime']]"
   ]
  },
  {
   "cell_type": "markdown",
   "metadata": {
    "_uuid": "fb23108593f615b0fd19c35f2267c085735796bb"
   },
   "source": [
    "Naturally, some sites like Wikipedia or Twitter would show the same URL, but the news ones show a different story based on the date option that we specified. "
   ]
  },
  {
   "cell_type": "markdown",
   "metadata": {
    "_uuid": "0ae709d4b89ed8ca7baf1a6b918fc10dd358a99c"
   },
   "source": [
    "## Including / Excluding Websites\n",
    "\n",
    "Sometimes you want to restrict your search to a certain website, and sometimes you may want to search the web _excluding_ a certain domain. This can be done by the `siteSearch` and `siteSearchFilter` parameters. For example: \n",
    "\n",
    "`adv.serp_goog(q='iphone', cx=cx, key=key, siteSearch='www.apple.com', siteSearchFilter=['e', 'i'])`\n",
    "              \n",
    "As you can guess this will make two requests for the keyword 'iphone', one including `i` only www.apple.com and the other excluding `e` apple.com and searching the whole web. \n",
    "\n",
    "\n",
    "This was a quick overview of how you can get SERP data easily, on a large scale, and consistently.  \n",
    "This can be used for exploration and ongoing work.\n",
    "- **Exploration:** at the beginning of a project where you still don't know about the main players, how diverse the landscape is, competition etc. You would typically make a few queries, analyze some data and decide on what to focus on. \n",
    "- **Ongoing:** once you have a good idea, then you would probably want to run the same queries once a month, to keep track of how things are progressing, how positions are changing, and whether other players are making changes in their strategies. \n",
    "\n",
    "Happy to get any [feedback, bugs](https://github.com/eliasdabbas/advertools), or [suggestions](https://twitter.com/eliasdabbas).\n"
   ]
  }
 ],
 "metadata": {
  "kernelspec": {
   "display_name": "Python 3 (ipykernel)",
   "language": "python",
   "name": "python3"
  },
  "language_info": {
   "codemirror_mode": {
    "name": "ipython",
    "version": 3
   },
   "file_extension": ".py",
   "mimetype": "text/x-python",
   "name": "python",
   "nbconvert_exporter": "python",
   "pygments_lexer": "ipython3",
   "version": "3.9.12"
  }
 },
 "nbformat": 4,
 "nbformat_minor": 4
}
